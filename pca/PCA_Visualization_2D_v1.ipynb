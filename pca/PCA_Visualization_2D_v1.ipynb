{
 "cells": [
  {
   "cell_type": "markdown",
   "id": "1ee71996",
   "metadata": {},
   "source": [
    "# Dimensionality Reduction using PCA and Visualization"
   ]
  },
  {
   "cell_type": "code",
   "execution_count": null,
   "id": "71622196",
   "metadata": {},
   "outputs": [],
   "source": [
    "import pandas as pd\n",
    "import numpy as np\n",
    "import matplotlib.pyplot as plt\n",
    "import seaborn as sn"
   ]
  },
  {
   "cell_type": "code",
   "execution_count": null,
   "id": "9c939143",
   "metadata": {},
   "outputs": [],
   "source": [
    "data_file = \"https://raw.githubusercontent.com/surajdwivedi0307/UnsupervisedLearning/main/Clustering/beer.csv\""
   ]
  },
  {
   "cell_type": "code",
   "execution_count": null,
   "id": "c9377ede",
   "metadata": {},
   "outputs": [],
   "source": [
    "beer_df = pd.read_csv(data_file)"
   ]
  },
  {
   "cell_type": "code",
   "execution_count": null,
   "id": "64eb73e6",
   "metadata": {},
   "outputs": [],
   "source": [
    "beer_df"
   ]
  },
  {
   "cell_type": "code",
   "execution_count": null,
   "id": "5fe63165",
   "metadata": {},
   "outputs": [],
   "source": [
    "beer_df.columns"
   ]
  },
  {
   "cell_type": "code",
   "execution_count": null,
   "id": "7a70a71d",
   "metadata": {},
   "outputs": [],
   "source": [
    "features = ['calories', 'sodium', 'alcohol', 'cost']"
   ]
  },
  {
   "cell_type": "markdown",
   "id": "263549d7",
   "metadata": {},
   "source": [
    "## Apply PCA"
   ]
  },
  {
   "cell_type": "code",
   "execution_count": null,
   "id": "d5fd35f1",
   "metadata": {},
   "outputs": [],
   "source": [
    "from sklearn.decomposition import PCA"
   ]
  },
  {
   "cell_type": "code",
   "execution_count": null,
   "id": "6933669e",
   "metadata": {},
   "outputs": [],
   "source": [
    "pca = PCA(n_components=2)"
   ]
  },
  {
   "cell_type": "code",
   "execution_count": null,
   "id": "4af53078",
   "metadata": {},
   "outputs": [],
   "source": [
    "pca.fit(beer_df[features])"
   ]
  },
  {
   "cell_type": "code",
   "execution_count": null,
   "id": "1206d2f4",
   "metadata": {},
   "outputs": [],
   "source": [
    "beer_2d = pca.transform(beer_df[features])"
   ]
  },
  {
   "cell_type": "markdown",
   "id": "18f6618f",
   "metadata": {},
   "source": [
    "### Explained Variance"
   ]
  },
  {
   "cell_type": "code",
   "execution_count": null,
   "id": "6e866e1f",
   "metadata": {},
   "outputs": [],
   "source": [
    "np.round(pca.explained_variance_ratio_, 2)"
   ]
  },
  {
   "cell_type": "markdown",
   "id": "c4dd0210",
   "metadata": {},
   "source": [
    "### Principal Components"
   ]
  },
  {
   "cell_type": "code",
   "execution_count": null,
   "id": "4306ac86",
   "metadata": {
    "scrolled": true
   },
   "outputs": [],
   "source": [
    "pca.components_"
   ]
  },
  {
   "cell_type": "code",
   "execution_count": null,
   "id": "b17d6ad6",
   "metadata": {},
   "outputs": [],
   "source": [
    "beer_2d_df = pd.DataFrame(beer_2d, columns = ['D1', 'D2'])"
   ]
  },
  {
   "cell_type": "code",
   "execution_count": null,
   "id": "d2298a10",
   "metadata": {},
   "outputs": [],
   "source": [
    "beer_2d_df"
   ]
  },
  {
   "cell_type": "markdown",
   "id": "0ee782cb",
   "metadata": {},
   "source": [
    "## Visualization"
   ]
  },
  {
   "cell_type": "code",
   "execution_count": null,
   "id": "f3a6d9f8",
   "metadata": {},
   "outputs": [],
   "source": [
    "plt.figure(figsize=(10, 10))\n",
    "sn.scatterplot(data = beer_2d_df,\n",
    "               x = 'D1',\n",
    "               y = 'D2');\n",
    "\n",
    "beer_df\n",
    "\n",
    "# add annotations one by one with a loop\n",
    "for line in range( 0, beer_df.shape[0] ):\n",
    "     plt.text(beer_2d_df.D1[line]+0.2, \n",
    "              beer_2d_df.D2[line], \n",
    "              beer_df.name[line], \n",
    "              horizontalalignment='left', \n",
    "              size='medium', \n",
    "              color='black')\n",
    "\n",
    "plt.show()"
   ]
  }
 ],
 "metadata": {
  "kernelspec": {
   "display_name": "Python 3 (ipykernel)",
   "language": "python",
   "name": "python3"
  },
  "language_info": {
   "codemirror_mode": {
    "name": "ipython",
    "version": 3
   },
   "file_extension": ".py",
   "mimetype": "text/x-python",
   "name": "python",
   "nbconvert_exporter": "python",
   "pygments_lexer": "ipython3",
   "version": "3.10.9"
  }
 },
 "nbformat": 4,
 "nbformat_minor": 5
}
