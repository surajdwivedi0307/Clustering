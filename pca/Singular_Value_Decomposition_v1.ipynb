{
 "cells": [
  {
   "cell_type": "markdown",
   "metadata": {},
   "source": [
    "# Singular Value Decompositions"
   ]
  },
  {
   "cell_type": "code",
   "execution_count": null,
   "metadata": {},
   "outputs": [],
   "source": [
    "import numpy as np\n",
    "import pandas as pd"
   ]
  },
  {
   "cell_type": "markdown",
   "metadata": {},
   "source": [
    "### Initialize the matrix"
   ]
  },
  {
   "cell_type": "code",
   "execution_count": null,
   "metadata": {},
   "outputs": [],
   "source": [
    "mat = np.array([[4, 2, 2], \n",
    "                [3, 4, 1],\n",
    "                [6, 7, 2]])"
   ]
  },
  {
   "cell_type": "markdown",
   "metadata": {},
   "source": [
    "### Singular Value Decomposition\n",
    "\n",
    "Singular Value Decomposition is a factorization technique that decomposes a given matrix \\( A \\) into three other matrices \\( U \\), \\( $Sigma$ ), and \\( $V^T$ \\). The decomposition can be represented as:\n",
    "\n",
    "\n",
    "$A = U \\Sigma V^T$\n",
    "\n",
    "#### Components of SVD\n",
    "\n",
    "- **\\( U \\)**: An \\( $m \\times m$ \\) orthogonal matrix, containing the left singular vectors.\n",
    "- **\\( $Sigma$ \\)**: An \\( $m \\times n $\\) diagonal matrix with non-negative values called singular values. \n",
    "    - These are arranged in descending order.\n",
    "- **\\( $V^T$ \\)**: An \\( $n \\times n$ \\) orthogonal matrix, containing the right singular vectors.\n",
    "\n",
    "#### Properties\n",
    "\n",
    "1. **Orthogonality**: Both \\( U \\) and \\( V \\) are orthogonal matrices.\n",
    "2. **Non-Negativity**: Singular values in \\( $\\Sigma$ \\) are always non-negative.\n",
    "3. **Ordering**: Singular values in \\( $\\Sigma$ \\) are sorted in descending order.\n",
    "\n",
    "#### Applications\n",
    "\n",
    "- **Data Compression**: Truncated SVD for image and data compression.\n",
    "- **Machine Learning**: Principal Component Analysis (PCA), Latent Semantic Analysis (LSA).\n",
    "- **Numerical Stability**: Used in solving ill-conditioned linear systems."
   ]
  },
  {
   "cell_type": "code",
   "execution_count": null,
   "metadata": {},
   "outputs": [],
   "source": [
    "U, s, Vh = np.linalg.svd(mat, full_matrices=False)"
   ]
  },
  {
   "cell_type": "code",
   "execution_count": null,
   "metadata": {},
   "outputs": [],
   "source": [
    "U"
   ]
  },
  {
   "cell_type": "code",
   "execution_count": null,
   "metadata": {},
   "outputs": [],
   "source": [
    "s"
   ]
  },
  {
   "cell_type": "code",
   "execution_count": null,
   "metadata": {},
   "outputs": [],
   "source": [
    "Vh"
   ]
  },
  {
   "cell_type": "markdown",
   "metadata": {},
   "source": [
    "### Are the column vectors orthgonal?"
   ]
  },
  {
   "cell_type": "code",
   "execution_count": null,
   "metadata": {},
   "outputs": [],
   "source": [
    "dotp = np.round(np.dot(U[:, 0], U[:, 1]), 2)\n",
    "dotp"
   ]
  },
  {
   "cell_type": "markdown",
   "metadata": {},
   "source": [
    "**Note:** What does dot product 0.0 mean? "
   ]
  },
  {
   "cell_type": "code",
   "execution_count": null,
   "metadata": {},
   "outputs": [],
   "source": [
    "# Check if the vector is a unit vector\n",
    "is_orthogonal = np.isclose(dotp, 0.0)\n",
    "\n",
    "print(\"Are the vectors orthogonal to each other?\", is_orthogonal)"
   ]
  },
  {
   "cell_type": "markdown",
   "metadata": {},
   "source": [
    "### Are the vectors unit vectors?"
   ]
  },
  {
   "cell_type": "code",
   "execution_count": null,
   "metadata": {},
   "outputs": [],
   "source": [
    "# Calculate the Euclidean norm\n",
    "norm = np.linalg.norm(U[:, 0])\n",
    "norm"
   ]
  },
  {
   "cell_type": "code",
   "execution_count": null,
   "metadata": {},
   "outputs": [],
   "source": [
    "# Check if the vector is a unit vector\n",
    "is_unit_vector = np.isclose(norm, 1.0)\n",
    "\n",
    "print(\"Is the vector a unit vector?\", is_unit_vector)"
   ]
  },
  {
   "cell_type": "markdown",
   "metadata": {},
   "source": [
    "### Cosine Similarity between two vectors\n",
    "\n",
    "Cosine similarity is a metric used to measure how similar two vectors are. It is defined as the cosine of the angle between the vectors, which can be calculated using the dot product of the vectors and their magnitudes (Euclidean norms).\n",
    "\n",
    "The cosine similarity between two vectors \\( A \\) and \\( B \\) is given by:\n",
    "\n",
    "\n",
    "$\\text{Cosine Similarity} = \\frac{{A \\cdot B}}{{||A|| \\times ||B||}}$\n",
    "\n",
    "Here, \\( $A \\cdot B$ \\) is the dot product of \\( A \\) and \\( B \\), and \\( ||A|| \\) and \\( ||B|| \\) are the Euclidean norms of \\( A \\) and \\( B \\) respectively.\n",
    "\n",
    "#### Interpretation\n",
    "\n",
    "- A value of 1 implies that the vectors are identical.\n",
    "- A value of 0 implies that the vectors are orthogonal (i.e., not similar).\n",
    "- A value of -1 implies that the vectors are diametrically opposed."
   ]
  },
  {
   "cell_type": "code",
   "execution_count": null,
   "metadata": {},
   "outputs": [],
   "source": [
    "norm_A = np.linalg.norm(U[:, 0])\n",
    "norm_B = np.linalg.norm(U[:, 1])\n",
    "\n",
    "cosine_similarity = dotp / (norm_A * norm_B)\n",
    "\n",
    "print(\"Cosine Similarity:\", cosine_similarity)"
   ]
  },
  {
   "cell_type": "markdown",
   "metadata": {},
   "source": [
    "**Note:** A value of 0 implies that the vectors are orthogonal (i.e., not similar)."
   ]
  },
  {
   "cell_type": "markdown",
   "metadata": {},
   "source": [
    "### What happens if the first eigen vectors and values are taken?"
   ]
  },
  {
   "cell_type": "code",
   "execution_count": null,
   "metadata": {},
   "outputs": [],
   "source": [
    "U[0, :]"
   ]
  },
  {
   "cell_type": "code",
   "execution_count": null,
   "metadata": {},
   "outputs": [],
   "source": [
    "Vh[:1, :]"
   ]
  },
  {
   "cell_type": "code",
   "execution_count": null,
   "metadata": {},
   "outputs": [],
   "source": [
    "s[:1]"
   ]
  },
  {
   "cell_type": "code",
   "execution_count": null,
   "metadata": {},
   "outputs": [],
   "source": [
    "mat_1 = U[:, :1] @ np.diag(s[:1]) @ Vh[:1, :]\n",
    "np.round(mat_1, 1)"
   ]
  },
  {
   "cell_type": "code",
   "execution_count": null,
   "metadata": {},
   "outputs": [],
   "source": [
    "np.allclose(mat, mat_1)"
   ]
  },
  {
   "cell_type": "markdown",
   "metadata": {},
   "source": [
    "### What happens if the second eigen vectors and values are taken?"
   ]
  },
  {
   "cell_type": "code",
   "execution_count": null,
   "metadata": {},
   "outputs": [],
   "source": [
    "mat_12 = U[:, 1:2] @ np.diag(s[1:2]) @ Vh[1:2, :]\n",
    "np.round(mat_12, 1)"
   ]
  },
  {
   "cell_type": "markdown",
   "metadata": {},
   "source": [
    "### Add both the matrices"
   ]
  },
  {
   "cell_type": "code",
   "execution_count": null,
   "metadata": {},
   "outputs": [],
   "source": [
    "np.round(mat_1 + mat_12, 1)"
   ]
  },
  {
   "cell_type": "markdown",
   "metadata": {},
   "source": [
    "### What happens if the two eigen vectors and values are taken?"
   ]
  },
  {
   "cell_type": "code",
   "execution_count": null,
   "metadata": {},
   "outputs": [],
   "source": [
    "mat_2 = mat_1 = U[:, :2] @ np.diag(s[:2]) @ Vh[:2, :]\n",
    "np.round(mat_2, 1)"
   ]
  },
  {
   "cell_type": "code",
   "execution_count": null,
   "metadata": {},
   "outputs": [],
   "source": [
    "mat"
   ]
  },
  {
   "cell_type": "code",
   "execution_count": null,
   "metadata": {},
   "outputs": [],
   "source": [
    "np.allclose(mat, mat_2)"
   ]
  },
  {
   "cell_type": "markdown",
   "metadata": {},
   "source": [
    "**Note:** But the resulting matrix is very close to the above original matrix?"
   ]
  },
  {
   "cell_type": "markdown",
   "metadata": {},
   "source": [
    "### What happens if the all eigen vectors and values are taken?"
   ]
  },
  {
   "cell_type": "code",
   "execution_count": null,
   "metadata": {},
   "outputs": [],
   "source": [
    "mat_3 = U @ np.diag(s) @ Vh\n",
    "np.round(mat_3, 1)"
   ]
  },
  {
   "cell_type": "code",
   "execution_count": null,
   "metadata": {},
   "outputs": [],
   "source": [
    "mat"
   ]
  },
  {
   "cell_type": "code",
   "execution_count": null,
   "metadata": {},
   "outputs": [],
   "source": [
    "np.allclose(mat, mat_3)"
   ]
  },
  {
   "cell_type": "markdown",
   "metadata": {},
   "source": [
    "## If a square matrix is orthgonal?"
   ]
  },
  {
   "cell_type": "markdown",
   "metadata": {},
   "source": [
    "A square matrix \\( A \\) is orthogonal if it satisfies the following mathematical condition:\n",
    "\n",
    "$A^T A = AA^T = I\n",
    "$\n",
    "\n",
    "Here, $( A^T )$ is the transpose of \\( A \\), and \\( I \\) is the identity matrix of the same dimension as \\( A \\).\n"
   ]
  },
  {
   "cell_type": "code",
   "execution_count": null,
   "metadata": {},
   "outputs": [],
   "source": [
    "np.round(U @ U.T, 2)"
   ]
  },
  {
   "cell_type": "code",
   "execution_count": null,
   "metadata": {},
   "outputs": [],
   "source": [
    "np.round(Vh @ Vh.T, 2)"
   ]
  },
  {
   "cell_type": "code",
   "execution_count": null,
   "metadata": {},
   "outputs": [],
   "source": [
    "np.eye(U.shape[0])"
   ]
  },
  {
   "cell_type": "markdown",
   "metadata": {},
   "source": [
    "## What about SVD of Symmetric Matrix?"
   ]
  },
  {
   "cell_type": "code",
   "execution_count": null,
   "metadata": {},
   "outputs": [],
   "source": [
    "smat = np.array([[1, 2, 3], \n",
    "                 [2, 4, 5],\n",
    "                 [3, 5, 6]])"
   ]
  },
  {
   "cell_type": "code",
   "execution_count": null,
   "metadata": {},
   "outputs": [],
   "source": [
    "U_vec_s, sigma_s, V_vec_s = np.linalg.svd(smat, full_matrices = False)"
   ]
  },
  {
   "cell_type": "code",
   "execution_count": null,
   "metadata": {},
   "outputs": [],
   "source": [
    "U_vec_s"
   ]
  },
  {
   "cell_type": "code",
   "execution_count": null,
   "metadata": {},
   "outputs": [],
   "source": [
    "V_vec_s.T"
   ]
  },
  {
   "cell_type": "code",
   "execution_count": null,
   "metadata": {},
   "outputs": [],
   "source": [
    "np.matrix(U_vec_s * np.diag(sigma_s) * V_vec_s)"
   ]
  },
  {
   "cell_type": "markdown",
   "metadata": {},
   "source": [
    "# Application: Image Compression"
   ]
  },
  {
   "cell_type": "code",
   "execution_count": null,
   "metadata": {},
   "outputs": [],
   "source": [
    "import matplotlib.pyplot as plt\n",
    "import urllib3"
   ]
  },
  {
   "cell_type": "code",
   "execution_count": null,
   "metadata": {},
   "outputs": [],
   "source": [
    "from PIL import Image\n",
    "import requests\n",
    "from io import BytesIO\n",
    "\n",
    "image_url = 'https://raw.githubusercontent.com/manaranjanp/ISB_MLUL/main/pca/smiling.png'\n",
    "response = requests.get(image_url)\n",
    "smiling = Image.open(BytesIO(response.content))"
   ]
  },
  {
   "cell_type": "code",
   "execution_count": null,
   "metadata": {},
   "outputs": [],
   "source": [
    "smiling = np.array(smiling)"
   ]
  },
  {
   "cell_type": "code",
   "execution_count": null,
   "metadata": {},
   "outputs": [],
   "source": [
    "plt.imshow( smiling );"
   ]
  },
  {
   "cell_type": "code",
   "execution_count": null,
   "metadata": {},
   "outputs": [],
   "source": []
  },
  {
   "cell_type": "code",
   "execution_count": null,
   "metadata": {},
   "outputs": [],
   "source": [
    "smiling.shape"
   ]
  },
  {
   "cell_type": "code",
   "execution_count": null,
   "metadata": {},
   "outputs": [],
   "source": [
    "grayscale = smiling[:, :, :1]"
   ]
  },
  {
   "cell_type": "code",
   "execution_count": null,
   "metadata": {},
   "outputs": [],
   "source": [
    "plt.imshow( grayscale, cmap='gray' );"
   ]
  },
  {
   "cell_type": "code",
   "execution_count": null,
   "metadata": {},
   "outputs": [],
   "source": [
    "grayscale.shape"
   ]
  },
  {
   "cell_type": "code",
   "execution_count": null,
   "metadata": {},
   "outputs": [],
   "source": [
    "plt.imshow( grayscale[100:130, 50:250], cmap='gray' );"
   ]
  },
  {
   "cell_type": "markdown",
   "metadata": {},
   "source": [
    "### SVD of Image Matrix"
   ]
  },
  {
   "cell_type": "code",
   "execution_count": null,
   "metadata": {},
   "outputs": [],
   "source": [
    "U_vec, sigma, V_vec = np.linalg.svd(np.matrix(grayscale))"
   ]
  },
  {
   "cell_type": "markdown",
   "metadata": {},
   "source": [
    "### Using the first vectors"
   ]
  },
  {
   "cell_type": "code",
   "execution_count": null,
   "metadata": {},
   "outputs": [],
   "source": [
    "image_1_vec = U_vec[:, :1] @ np.diag(sigma[:1]) @ V_vec[:1, :]\n",
    "plt.imshow(image_1_vec, cmap='gray');"
   ]
  },
  {
   "cell_type": "markdown",
   "metadata": {},
   "source": [
    "### Using 10 vectors"
   ]
  },
  {
   "cell_type": "code",
   "execution_count": null,
   "metadata": {},
   "outputs": [],
   "source": [
    "image_1_vec = U_vec[:, :10] @ np.diag(sigma[:10]) @ V_vec[:10, :]\n",
    "plt.imshow(image_1_vec, cmap='gray');"
   ]
  },
  {
   "cell_type": "markdown",
   "metadata": {},
   "source": [
    "### Using 50 vectors"
   ]
  },
  {
   "cell_type": "code",
   "execution_count": null,
   "metadata": {},
   "outputs": [],
   "source": [
    "image_1_vec = U_vec[:, :50] @ np.diag(sigma[:50]) @ V_vec[:50, :]\n",
    "plt.imshow(image_1_vec, cmap='gray');"
   ]
  },
  {
   "cell_type": "code",
   "execution_count": null,
   "metadata": {},
   "outputs": [],
   "source": [
    "sigma.shape"
   ]
  },
  {
   "cell_type": "markdown",
   "metadata": {},
   "source": [
    "### How many numbers?"
   ]
  },
  {
   "cell_type": "code",
   "execution_count": null,
   "metadata": {},
   "outputs": [],
   "source": [
    "U_vec[:, :50].shape"
   ]
  },
  {
   "cell_type": "code",
   "execution_count": null,
   "metadata": {},
   "outputs": [],
   "source": [
    "U_vec[:, :50].shape[0] * U_vec[:, :50].shape[1]"
   ]
  },
  {
   "cell_type": "code",
   "execution_count": null,
   "metadata": {},
   "outputs": [],
   "source": [
    "num_vals = 2 * (U_vec[:, :50].shape[0] * U_vec[:, :50].shape[1]) + sigma[:50].shape[0]"
   ]
  },
  {
   "cell_type": "code",
   "execution_count": null,
   "metadata": {},
   "outputs": [],
   "source": [
    "num_vals "
   ]
  },
  {
   "cell_type": "code",
   "execution_count": null,
   "metadata": {},
   "outputs": [],
   "source": [
    "grayscale.shape[0] * grayscale.shape[1]"
   ]
  },
  {
   "cell_type": "code",
   "execution_count": null,
   "metadata": {},
   "outputs": [],
   "source": [
    "num_vals / (grayscale.shape[0] * grayscale.shape[1])"
   ]
  },
  {
   "cell_type": "markdown",
   "metadata": {},
   "source": [
    "## How much information is explained and how much is lost?"
   ]
  },
  {
   "cell_type": "code",
   "execution_count": null,
   "metadata": {},
   "outputs": [],
   "source": [
    "total_variance = np.sum( sigma )"
   ]
  },
  {
   "cell_type": "code",
   "execution_count": null,
   "metadata": {},
   "outputs": [],
   "source": [
    "np.round(sigma, 2)[0:10]"
   ]
  },
  {
   "cell_type": "code",
   "execution_count": null,
   "metadata": {},
   "outputs": [],
   "source": [
    "np.round(sigma, 2)[-10:]"
   ]
  },
  {
   "cell_type": "code",
   "execution_count": null,
   "metadata": {},
   "outputs": [],
   "source": [
    "var_explained = np.round([(eig_val/total_variance) for eig_val in sigma], 3)"
   ]
  },
  {
   "cell_type": "code",
   "execution_count": null,
   "metadata": {},
   "outputs": [],
   "source": [
    "var_explained_cumm = np.cumsum( var_explained )"
   ]
  },
  {
   "cell_type": "code",
   "execution_count": null,
   "metadata": {},
   "outputs": [],
   "source": [
    "var_explained_df = pd.DataFrame( {'component': range(1,275), \n",
    "                              'variance': var_explained[0:274],\n",
    "                              'var_cumsum': var_explained_cumm[0:274]} )"
   ]
  },
  {
   "cell_type": "code",
   "execution_count": null,
   "metadata": {},
   "outputs": [],
   "source": [
    "plt.figure(figsize = (20, 6))\n",
    "plt.grid()\n",
    "plt.plot(var_explained_df.component,\n",
    "         var_explained_df.variance, \n",
    "         '.');"
   ]
  },
  {
   "cell_type": "code",
   "execution_count": null,
   "metadata": {},
   "outputs": [],
   "source": [
    "var_explained_df[0:50]"
   ]
  },
  {
   "cell_type": "code",
   "execution_count": null,
   "metadata": {},
   "outputs": [],
   "source": [
    "plt.figure(figsize = (20, 8))\n",
    "plt.grid()\n",
    "plt.plot(var_explained_df.component,\n",
    "         var_explained_df.var_cumsum,\n",
    "         '.');"
   ]
  }
 ],
 "metadata": {
  "kernelspec": {
   "display_name": "Python 3 (ipykernel)",
   "language": "python",
   "name": "python3"
  },
  "language_info": {
   "codemirror_mode": {
    "name": "ipython",
    "version": 3
   },
   "file_extension": ".py",
   "mimetype": "text/x-python",
   "name": "python",
   "nbconvert_exporter": "python",
   "pygments_lexer": "ipython3",
   "version": "3.10.9"
  }
 },
 "nbformat": 4,
 "nbformat_minor": 4
}
