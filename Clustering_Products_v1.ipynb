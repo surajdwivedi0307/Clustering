{
  "cells": [
    {
      "cell_type": "markdown",
      "id": "4d8a06f6",
      "metadata": {
        "id": "4d8a06f6"
      },
      "source": [
        "# Clustering Using Customer Transactions Data"
      ]
    },
    {
      "cell_type": "code",
      "execution_count": null,
      "id": "d3fe5393",
      "metadata": {
        "id": "d3fe5393"
      },
      "outputs": [],
      "source": [
        "import numpy as np\n",
        "import pandas as pd\n",
        "import matplotlib.pyplot as plt\n",
        "import seaborn as sn\n",
        "\n",
        "import warnings\n",
        "warnings.filterwarnings('ignore')\n",
        "\n",
        "import datetime as dt\n",
        "from sklearn.preprocessing import StandardScaler\n",
        "from sklearn.cluster import KMeans"
      ]
    },
    {
      "cell_type": "code",
      "execution_count": null,
      "id": "86c19b6d",
      "metadata": {
        "id": "86c19b6d"
      },
      "outputs": [],
      "source": [
        "retail_df = pd.read_csv(\"https://raw.githubusercontent.com/surajdwivedi0307/UnsupervisedLearning/main/retail_txns.csv\")"
      ]
    },
    {
      "cell_type": "code",
      "execution_count": null,
      "id": "776ae2ce",
      "metadata": {
        "id": "776ae2ce"
      },
      "outputs": [],
      "source": [
        "retail_df.Country.value_counts()"
      ]
    },
    {
      "cell_type": "code",
      "execution_count": null,
      "id": "9c987bd2",
      "metadata": {
        "id": "9c987bd2"
      },
      "outputs": [],
      "source": [
        "retail_df.info();"
      ]
    },
    {
      "cell_type": "code",
      "execution_count": null,
      "id": "92ff8951",
      "metadata": {
        "id": "92ff8951"
      },
      "outputs": [],
      "source": [
        "retail_df.isnull().sum()"
      ]
    },
    {
      "cell_type": "code",
      "execution_count": null,
      "id": "49cdbd3c",
      "metadata": {
        "id": "49cdbd3c"
      },
      "outputs": [],
      "source": [
        "retail_df.dropna( subset = ['CustomerID'], inplace = True)"
      ]
    },
    {
      "cell_type": "code",
      "execution_count": null,
      "id": "a75089b7",
      "metadata": {
        "id": "a75089b7"
      },
      "outputs": [],
      "source": [
        "retail_df.info()"
      ]
    },
    {
      "cell_type": "code",
      "execution_count": null,
      "id": "60f246a7",
      "metadata": {
        "id": "60f246a7"
      },
      "outputs": [],
      "source": [
        "retail_df.isnull().sum()"
      ]
    },
    {
      "cell_type": "code",
      "execution_count": null,
      "id": "cbfb3fcb",
      "metadata": {
        "id": "cbfb3fcb"
      },
      "outputs": [],
      "source": [
        "retail_df.duplicated().sum()"
      ]
    },
    {
      "cell_type": "code",
      "execution_count": null,
      "id": "7ac67360",
      "metadata": {
        "id": "7ac67360"
      },
      "outputs": [],
      "source": [
        "retail_df.drop_duplicates(inplace = True)"
      ]
    },
    {
      "cell_type": "code",
      "execution_count": null,
      "id": "6857df65",
      "metadata": {
        "id": "6857df65"
      },
      "outputs": [],
      "source": [
        "retail_df.info();"
      ]
    },
    {
      "cell_type": "code",
      "execution_count": null,
      "id": "c6d2fc49",
      "metadata": {
        "id": "c6d2fc49"
      },
      "outputs": [],
      "source": [
        "sn.kdeplot(retail_df.Quantity);"
      ]
    },
    {
      "cell_type": "code",
      "execution_count": null,
      "id": "cca7c4eb",
      "metadata": {
        "id": "cca7c4eb"
      },
      "outputs": [],
      "source": [
        "retail_df[retail_df.Quantity < 0][0:10]"
      ]
    },
    {
      "cell_type": "code",
      "execution_count": null,
      "id": "a81bbd34",
      "metadata": {
        "id": "a81bbd34"
      },
      "outputs": [],
      "source": [
        "sn.kdeplot(retail_df.UnitPrice);"
      ]
    },
    {
      "cell_type": "markdown",
      "id": "25eedddb",
      "metadata": {
        "id": "25eedddb"
      },
      "source": [
        "### StockCode Information"
      ]
    },
    {
      "cell_type": "code",
      "execution_count": null,
      "id": "02779204",
      "metadata": {
        "id": "02779204"
      },
      "outputs": [],
      "source": [
        "stock_df = retail_df[['CustomerID', 'StockCode']]"
      ]
    },
    {
      "cell_type": "code",
      "execution_count": null,
      "id": "51ef1372",
      "metadata": {
        "id": "51ef1372"
      },
      "outputs": [],
      "source": [
        "stock_df.drop_duplicates(inplace = True)"
      ]
    },
    {
      "cell_type": "code",
      "execution_count": null,
      "id": "4c8bcc31",
      "metadata": {
        "id": "4c8bcc31"
      },
      "outputs": [],
      "source": [
        "stock_df.info()"
      ]
    },
    {
      "cell_type": "code",
      "execution_count": null,
      "id": "cd696693",
      "metadata": {
        "id": "cd696693"
      },
      "outputs": [],
      "source": [
        "len(stock_df.StockCode.unique())"
      ]
    },
    {
      "cell_type": "code",
      "execution_count": null,
      "id": "ac1a01cc",
      "metadata": {
        "id": "ac1a01cc"
      },
      "outputs": [],
      "source": [
        "len(stock_df.CustomerID.unique())"
      ]
    },
    {
      "cell_type": "code",
      "execution_count": null,
      "id": "2ed1dd5e",
      "metadata": {
        "id": "2ed1dd5e"
      },
      "outputs": [],
      "source": [
        "stock_count_df = stock_df.StockCode.value_counts().reset_index()\n",
        "stock_count_df.columns = ['StockCode', 'count']"
      ]
    },
    {
      "cell_type": "code",
      "execution_count": null,
      "id": "d1c1ddde",
      "metadata": {
        "id": "d1c1ddde"
      },
      "outputs": [],
      "source": [
        "plt.figure(figsize = (10, 5))\n",
        "sn.histplot( stock_count_df['count']);"
      ]
    },
    {
      "cell_type": "code",
      "execution_count": null,
      "id": "6a1bb0fb",
      "metadata": {
        "id": "6a1bb0fb"
      },
      "outputs": [],
      "source": [
        "stock_count_df = stock_count_df[stock_count_df['count'] > 10]\n",
        "stock_count_df"
      ]
    },
    {
      "cell_type": "markdown",
      "id": "2c70c40b",
      "metadata": {
        "id": "2c70c40b"
      },
      "source": [
        "### Customer Information"
      ]
    },
    {
      "cell_type": "code",
      "execution_count": null,
      "id": "21210a7a",
      "metadata": {
        "id": "21210a7a"
      },
      "outputs": [],
      "source": [
        "cust_count_df = stock_df.CustomerID.value_counts().reset_index()\n",
        "cust_count_df.columns = ['CustomerID', 'count']"
      ]
    },
    {
      "cell_type": "code",
      "execution_count": null,
      "id": "5d602a4b",
      "metadata": {
        "id": "5d602a4b"
      },
      "outputs": [],
      "source": [
        "plt.figure(figsize = (10, 5))\n",
        "sn.histplot( cust_count_df['count']);"
      ]
    },
    {
      "cell_type": "code",
      "execution_count": null,
      "id": "2d2f0754",
      "metadata": {
        "id": "2d2f0754"
      },
      "outputs": [],
      "source": [
        "cust_count_df[cust_count_df['count'] > 10]\n",
        "cust_count_df"
      ]
    },
    {
      "cell_type": "code",
      "execution_count": null,
      "id": "dab82e3b",
      "metadata": {
        "id": "dab82e3b"
      },
      "outputs": [],
      "source": [
        "clean_stock_df = stock_df[stock_df.StockCode.isin(stock_count_df.StockCode.unique()) &\n",
        "                          stock_df.CustomerID.isin(cust_count_df.CustomerID.unique())]"
      ]
    },
    {
      "cell_type": "code",
      "execution_count": null,
      "id": "b3593b96",
      "metadata": {
        "id": "b3593b96"
      },
      "outputs": [],
      "source": [
        "clean_stock_df.info()"
      ]
    },
    {
      "cell_type": "code",
      "execution_count": null,
      "id": "d375fdce",
      "metadata": {
        "id": "d375fdce"
      },
      "outputs": [],
      "source": [
        "clean_stock_df['bought'] = 1.0"
      ]
    },
    {
      "cell_type": "code",
      "execution_count": null,
      "id": "69fcc7a3",
      "metadata": {
        "id": "69fcc7a3"
      },
      "outputs": [],
      "source": [
        "clean_stock_df"
      ]
    },
    {
      "cell_type": "code",
      "execution_count": null,
      "id": "f462e642",
      "metadata": {
        "id": "f462e642"
      },
      "outputs": [],
      "source": [
        "cust_stocks_df = clean_stock_df.pivot( index='StockCode',\n",
        "                                       columns='CustomerID',\n",
        "                                       values = \"bought\" )\n",
        "cust_stocks_df[0:10]"
      ]
    },
    {
      "cell_type": "code",
      "execution_count": null,
      "id": "f501b0e1",
      "metadata": {
        "id": "f501b0e1"
      },
      "outputs": [],
      "source": [
        "cust_stocks_df.shape"
      ]
    },
    {
      "cell_type": "code",
      "execution_count": null,
      "id": "63f04ef0",
      "metadata": {
        "id": "63f04ef0"
      },
      "outputs": [],
      "source": [
        "cust_stocks_df = cust_stocks_df.fillna(0.0)\n",
        "cust_stocks_df.sample(10)"
      ]
    },
    {
      "cell_type": "code",
      "execution_count": null,
      "id": "a93a6062",
      "metadata": {
        "id": "a93a6062"
      },
      "outputs": [],
      "source": [
        "from sklearn.metrics.pairwise import pairwise_distances"
      ]
    },
    {
      "cell_type": "code",
      "execution_count": null,
      "id": "b747ad90",
      "metadata": {
        "id": "b747ad90"
      },
      "outputs": [],
      "source": [
        "jaccard_distance = pairwise_distances(cust_stocks_df.values, metric=\"jaccard\")"
      ]
    },
    {
      "cell_type": "code",
      "execution_count": null,
      "id": "bdd5b632",
      "metadata": {
        "id": "bdd5b632"
      },
      "outputs": [],
      "source": [
        "jaccard_distance"
      ]
    },
    {
      "cell_type": "code",
      "execution_count": null,
      "id": "52098102",
      "metadata": {
        "id": "52098102"
      },
      "outputs": [],
      "source": [
        "jaccard_distance.shape"
      ]
    },
    {
      "cell_type": "code",
      "execution_count": null,
      "id": "936ac53b",
      "metadata": {
        "id": "936ac53b"
      },
      "outputs": [],
      "source": [
        "from sklearn.cluster import HDBSCAN"
      ]
    },
    {
      "cell_type": "code",
      "execution_count": null,
      "id": "c12dfe31",
      "metadata": {
        "id": "c12dfe31"
      },
      "outputs": [],
      "source": [
        "h_cluster = HDBSCAN(min_cluster_size=2, metric = 'jaccard')"
      ]
    },
    {
      "cell_type": "code",
      "execution_count": null,
      "id": "a540445c",
      "metadata": {
        "id": "a540445c"
      },
      "outputs": [],
      "source": [
        "#h_cluster = AgglomerativeClustering(n_clusters = 5)"
      ]
    },
    {
      "cell_type": "code",
      "execution_count": null,
      "id": "32173fcf",
      "metadata": {
        "id": "32173fcf"
      },
      "outputs": [],
      "source": [
        "h_cluster.fit(cust_stocks_df)"
      ]
    },
    {
      "cell_type": "code",
      "execution_count": null,
      "id": "97b2221f",
      "metadata": {
        "id": "97b2221f"
      },
      "outputs": [],
      "source": [
        "h_cluster.labels_"
      ]
    },
    {
      "cell_type": "code",
      "execution_count": null,
      "id": "9bf92ce2",
      "metadata": {
        "id": "9bf92ce2"
      },
      "outputs": [],
      "source": [
        "stock_clusters = pd.DataFrame( { \"StockCode\" : cust_stocks_df.index,\n",
        "                                 \"ClusterID\": h_cluster.labels_ } )"
      ]
    },
    {
      "cell_type": "code",
      "execution_count": null,
      "id": "6725bd36",
      "metadata": {
        "id": "6725bd36"
      },
      "outputs": [],
      "source": [
        "stock_clusters"
      ]
    },
    {
      "cell_type": "code",
      "execution_count": null,
      "id": "74f83e0c",
      "metadata": {
        "id": "74f83e0c"
      },
      "outputs": [],
      "source": [
        "stock_desc_dict = dict(zip(retail_df['StockCode'], retail_df['Description']))"
      ]
    },
    {
      "cell_type": "code",
      "execution_count": null,
      "id": "8793a340",
      "metadata": {
        "id": "8793a340"
      },
      "outputs": [],
      "source": [
        "stock_clusters['Description'] = stock_clusters.StockCode.map(lambda x: stock_desc_dict[x])"
      ]
    },
    {
      "cell_type": "code",
      "execution_count": null,
      "id": "f0281d75",
      "metadata": {
        "id": "f0281d75"
      },
      "outputs": [],
      "source": [
        "stock_clusters[stock_clusters.ClusterID == 0]"
      ]
    },
    {
      "cell_type": "code",
      "execution_count": null,
      "id": "1be85e08",
      "metadata": {
        "id": "1be85e08"
      },
      "outputs": [],
      "source": [
        "stock_clusters[stock_clusters.ClusterID == 1]"
      ]
    },
    {
      "cell_type": "code",
      "execution_count": null,
      "id": "d53ddc0d",
      "metadata": {
        "id": "d53ddc0d"
      },
      "outputs": [],
      "source": [
        "stock_clusters[stock_clusters.ClusterID == 2]"
      ]
    },
    {
      "cell_type": "code",
      "execution_count": null,
      "id": "50d12b6c",
      "metadata": {
        "id": "50d12b6c"
      },
      "outputs": [],
      "source": [
        "stock_clusters[stock_clusters.ClusterID == 10]"
      ]
    },
    {
      "cell_type": "code",
      "execution_count": null,
      "id": "2653e896",
      "metadata": {
        "id": "2653e896"
      },
      "outputs": [],
      "source": [
        "stock_clusters[stock_clusters.ClusterID == 12]"
      ]
    }
  ],
  "metadata": {
    "kernelspec": {
      "display_name": "Python 3 (ipykernel)",
      "language": "python",
      "name": "python3"
    },
    "language_info": {
      "codemirror_mode": {
        "name": "ipython",
        "version": 3
      },
      "file_extension": ".py",
      "mimetype": "text/x-python",
      "name": "python",
      "nbconvert_exporter": "python",
      "pygments_lexer": "ipython3",
      "version": "3.10.9"
    },
    "colab": {
      "provenance": []
    }
  },
  "nbformat": 4,
  "nbformat_minor": 5
}