{
  "cells": [
    {
      "cell_type": "markdown",
      "metadata": {
        "id": "UjBbnF4N1xan"
      },
      "source": [
        "# Product Segmentation"
      ]
    },
    {
      "cell_type": "code",
      "execution_count": 1,
      "metadata": {
        "id": "oIRnqjtG1xar"
      },
      "outputs": [],
      "source": [
        "#!pip install yellowbrick"
      ]
    },
    {
      "cell_type": "code",
      "execution_count": 2,
      "metadata": {
        "id": "yYmArxI11xas"
      },
      "outputs": [],
      "source": [
        "import pandas as pd\n",
        "import numpy as np\n",
        "import matplotlib.pyplot as plt\n",
        "import seaborn as sn"
      ]
    },
    {
      "cell_type": "code",
      "execution_count": 3,
      "metadata": {
        "id": "2Aw2lKel1xat"
      },
      "outputs": [],
      "source": [
        "import warnings\n",
        "warnings.filterwarnings('ignore')"
      ]
    },
    {
      "cell_type": "code",
      "execution_count": 9,
      "metadata": {
        "id": "Af54_H-J1xat"
      },
      "outputs": [],
      "source": [
        "data_file = \"https://raw.githubusercontent.com/surajdwivedi0307/UnsupervisedLearning/main/Clustering/beer.csv\""
      ]
    },
    {
      "cell_type": "code",
      "execution_count": 10,
      "metadata": {
        "id": "iiJLxgYV1xau"
      },
      "outputs": [],
      "source": [
        "beer_df = pd.read_csv( data_file )"
      ]
    },
    {
      "cell_type": "code",
      "execution_count": 11,
      "metadata": {
        "colab": {
          "base_uri": "https://localhost:8080/",
          "height": 645
        },
        "id": "FAFCyor31xau",
        "outputId": "4818ef82-8f5b-418d-af2d-9957a9454b53"
      },
      "outputs": [
        {
          "output_type": "execute_result",
          "data": {
            "text/plain": [
              "                    name  calories  sodium  alcohol  cost\n",
              "0              Budweiser       144      15      4.7  0.43\n",
              "1                Schlitz       151      19      4.9  0.43\n",
              "2            Kronenbourg       170       7      5.2  0.73\n",
              "3               Heineken       152      11      5.0  0.77\n",
              "4          Old_Milwaukee       145      23      4.6  0.28\n",
              "5             Augsberger       175      24      5.5  0.40\n",
              "6   Srohs_Bohemian_Style       149      27      4.7  0.42\n",
              "7            Miller_Lite        99      10      4.3  0.43\n",
              "8        Budweiser_Light       113       8      3.7  0.40\n",
              "9                  Coors       140      18      4.6  0.44\n",
              "10           Coors_Light       102      15      4.1  0.46\n",
              "11        Michelob_Light       135      11      4.2  0.50\n",
              "12                 Becks       150      19      4.7  0.76\n",
              "13                 Kirin       149       6      5.0  0.79\n",
              "14     Pabst_Extra_Light        68      15      2.3  0.38\n",
              "15                 Hamms       139      19      4.4  0.43\n",
              "16   Heilemans_Old_Style       144      24      4.9  0.43\n",
              "17   Olympia_Goled_Light        72       6      2.9  0.46\n",
              "18         Schlitz_Light        97       7      4.2  0.47"
            ],
            "text/html": [
              "\n",
              "  <div id=\"df-7f0282e0-d6c1-4b10-bf7c-53e747d9a6a9\" class=\"colab-df-container\">\n",
              "    <div>\n",
              "<style scoped>\n",
              "    .dataframe tbody tr th:only-of-type {\n",
              "        vertical-align: middle;\n",
              "    }\n",
              "\n",
              "    .dataframe tbody tr th {\n",
              "        vertical-align: top;\n",
              "    }\n",
              "\n",
              "    .dataframe thead th {\n",
              "        text-align: right;\n",
              "    }\n",
              "</style>\n",
              "<table border=\"1\" class=\"dataframe\">\n",
              "  <thead>\n",
              "    <tr style=\"text-align: right;\">\n",
              "      <th></th>\n",
              "      <th>name</th>\n",
              "      <th>calories</th>\n",
              "      <th>sodium</th>\n",
              "      <th>alcohol</th>\n",
              "      <th>cost</th>\n",
              "    </tr>\n",
              "  </thead>\n",
              "  <tbody>\n",
              "    <tr>\n",
              "      <th>0</th>\n",
              "      <td>Budweiser</td>\n",
              "      <td>144</td>\n",
              "      <td>15</td>\n",
              "      <td>4.7</td>\n",
              "      <td>0.43</td>\n",
              "    </tr>\n",
              "    <tr>\n",
              "      <th>1</th>\n",
              "      <td>Schlitz</td>\n",
              "      <td>151</td>\n",
              "      <td>19</td>\n",
              "      <td>4.9</td>\n",
              "      <td>0.43</td>\n",
              "    </tr>\n",
              "    <tr>\n",
              "      <th>2</th>\n",
              "      <td>Kronenbourg</td>\n",
              "      <td>170</td>\n",
              "      <td>7</td>\n",
              "      <td>5.2</td>\n",
              "      <td>0.73</td>\n",
              "    </tr>\n",
              "    <tr>\n",
              "      <th>3</th>\n",
              "      <td>Heineken</td>\n",
              "      <td>152</td>\n",
              "      <td>11</td>\n",
              "      <td>5.0</td>\n",
              "      <td>0.77</td>\n",
              "    </tr>\n",
              "    <tr>\n",
              "      <th>4</th>\n",
              "      <td>Old_Milwaukee</td>\n",
              "      <td>145</td>\n",
              "      <td>23</td>\n",
              "      <td>4.6</td>\n",
              "      <td>0.28</td>\n",
              "    </tr>\n",
              "    <tr>\n",
              "      <th>5</th>\n",
              "      <td>Augsberger</td>\n",
              "      <td>175</td>\n",
              "      <td>24</td>\n",
              "      <td>5.5</td>\n",
              "      <td>0.40</td>\n",
              "    </tr>\n",
              "    <tr>\n",
              "      <th>6</th>\n",
              "      <td>Srohs_Bohemian_Style</td>\n",
              "      <td>149</td>\n",
              "      <td>27</td>\n",
              "      <td>4.7</td>\n",
              "      <td>0.42</td>\n",
              "    </tr>\n",
              "    <tr>\n",
              "      <th>7</th>\n",
              "      <td>Miller_Lite</td>\n",
              "      <td>99</td>\n",
              "      <td>10</td>\n",
              "      <td>4.3</td>\n",
              "      <td>0.43</td>\n",
              "    </tr>\n",
              "    <tr>\n",
              "      <th>8</th>\n",
              "      <td>Budweiser_Light</td>\n",
              "      <td>113</td>\n",
              "      <td>8</td>\n",
              "      <td>3.7</td>\n",
              "      <td>0.40</td>\n",
              "    </tr>\n",
              "    <tr>\n",
              "      <th>9</th>\n",
              "      <td>Coors</td>\n",
              "      <td>140</td>\n",
              "      <td>18</td>\n",
              "      <td>4.6</td>\n",
              "      <td>0.44</td>\n",
              "    </tr>\n",
              "    <tr>\n",
              "      <th>10</th>\n",
              "      <td>Coors_Light</td>\n",
              "      <td>102</td>\n",
              "      <td>15</td>\n",
              "      <td>4.1</td>\n",
              "      <td>0.46</td>\n",
              "    </tr>\n",
              "    <tr>\n",
              "      <th>11</th>\n",
              "      <td>Michelob_Light</td>\n",
              "      <td>135</td>\n",
              "      <td>11</td>\n",
              "      <td>4.2</td>\n",
              "      <td>0.50</td>\n",
              "    </tr>\n",
              "    <tr>\n",
              "      <th>12</th>\n",
              "      <td>Becks</td>\n",
              "      <td>150</td>\n",
              "      <td>19</td>\n",
              "      <td>4.7</td>\n",
              "      <td>0.76</td>\n",
              "    </tr>\n",
              "    <tr>\n",
              "      <th>13</th>\n",
              "      <td>Kirin</td>\n",
              "      <td>149</td>\n",
              "      <td>6</td>\n",
              "      <td>5.0</td>\n",
              "      <td>0.79</td>\n",
              "    </tr>\n",
              "    <tr>\n",
              "      <th>14</th>\n",
              "      <td>Pabst_Extra_Light</td>\n",
              "      <td>68</td>\n",
              "      <td>15</td>\n",
              "      <td>2.3</td>\n",
              "      <td>0.38</td>\n",
              "    </tr>\n",
              "    <tr>\n",
              "      <th>15</th>\n",
              "      <td>Hamms</td>\n",
              "      <td>139</td>\n",
              "      <td>19</td>\n",
              "      <td>4.4</td>\n",
              "      <td>0.43</td>\n",
              "    </tr>\n",
              "    <tr>\n",
              "      <th>16</th>\n",
              "      <td>Heilemans_Old_Style</td>\n",
              "      <td>144</td>\n",
              "      <td>24</td>\n",
              "      <td>4.9</td>\n",
              "      <td>0.43</td>\n",
              "    </tr>\n",
              "    <tr>\n",
              "      <th>17</th>\n",
              "      <td>Olympia_Goled_Light</td>\n",
              "      <td>72</td>\n",
              "      <td>6</td>\n",
              "      <td>2.9</td>\n",
              "      <td>0.46</td>\n",
              "    </tr>\n",
              "    <tr>\n",
              "      <th>18</th>\n",
              "      <td>Schlitz_Light</td>\n",
              "      <td>97</td>\n",
              "      <td>7</td>\n",
              "      <td>4.2</td>\n",
              "      <td>0.47</td>\n",
              "    </tr>\n",
              "  </tbody>\n",
              "</table>\n",
              "</div>\n",
              "    <div class=\"colab-df-buttons\">\n",
              "\n",
              "  <div class=\"colab-df-container\">\n",
              "    <button class=\"colab-df-convert\" onclick=\"convertToInteractive('df-7f0282e0-d6c1-4b10-bf7c-53e747d9a6a9')\"\n",
              "            title=\"Convert this dataframe to an interactive table.\"\n",
              "            style=\"display:none;\">\n",
              "\n",
              "  <svg xmlns=\"http://www.w3.org/2000/svg\" height=\"24px\" viewBox=\"0 -960 960 960\">\n",
              "    <path d=\"M120-120v-720h720v720H120Zm60-500h600v-160H180v160Zm220 220h160v-160H400v160Zm0 220h160v-160H400v160ZM180-400h160v-160H180v160Zm440 0h160v-160H620v160ZM180-180h160v-160H180v160Zm440 0h160v-160H620v160Z\"/>\n",
              "  </svg>\n",
              "    </button>\n",
              "\n",
              "  <style>\n",
              "    .colab-df-container {\n",
              "      display:flex;\n",
              "      gap: 12px;\n",
              "    }\n",
              "\n",
              "    .colab-df-convert {\n",
              "      background-color: #E8F0FE;\n",
              "      border: none;\n",
              "      border-radius: 50%;\n",
              "      cursor: pointer;\n",
              "      display: none;\n",
              "      fill: #1967D2;\n",
              "      height: 32px;\n",
              "      padding: 0 0 0 0;\n",
              "      width: 32px;\n",
              "    }\n",
              "\n",
              "    .colab-df-convert:hover {\n",
              "      background-color: #E2EBFA;\n",
              "      box-shadow: 0px 1px 2px rgba(60, 64, 67, 0.3), 0px 1px 3px 1px rgba(60, 64, 67, 0.15);\n",
              "      fill: #174EA6;\n",
              "    }\n",
              "\n",
              "    .colab-df-buttons div {\n",
              "      margin-bottom: 4px;\n",
              "    }\n",
              "\n",
              "    [theme=dark] .colab-df-convert {\n",
              "      background-color: #3B4455;\n",
              "      fill: #D2E3FC;\n",
              "    }\n",
              "\n",
              "    [theme=dark] .colab-df-convert:hover {\n",
              "      background-color: #434B5C;\n",
              "      box-shadow: 0px 1px 3px 1px rgba(0, 0, 0, 0.15);\n",
              "      filter: drop-shadow(0px 1px 2px rgba(0, 0, 0, 0.3));\n",
              "      fill: #FFFFFF;\n",
              "    }\n",
              "  </style>\n",
              "\n",
              "    <script>\n",
              "      const buttonEl =\n",
              "        document.querySelector('#df-7f0282e0-d6c1-4b10-bf7c-53e747d9a6a9 button.colab-df-convert');\n",
              "      buttonEl.style.display =\n",
              "        google.colab.kernel.accessAllowed ? 'block' : 'none';\n",
              "\n",
              "      async function convertToInteractive(key) {\n",
              "        const element = document.querySelector('#df-7f0282e0-d6c1-4b10-bf7c-53e747d9a6a9');\n",
              "        const dataTable =\n",
              "          await google.colab.kernel.invokeFunction('convertToInteractive',\n",
              "                                                    [key], {});\n",
              "        if (!dataTable) return;\n",
              "\n",
              "        const docLinkHtml = 'Like what you see? Visit the ' +\n",
              "          '<a target=\"_blank\" href=https://colab.research.google.com/notebooks/data_table.ipynb>data table notebook</a>'\n",
              "          + ' to learn more about interactive tables.';\n",
              "        element.innerHTML = '';\n",
              "        dataTable['output_type'] = 'display_data';\n",
              "        await google.colab.output.renderOutput(dataTable, element);\n",
              "        const docLink = document.createElement('div');\n",
              "        docLink.innerHTML = docLinkHtml;\n",
              "        element.appendChild(docLink);\n",
              "      }\n",
              "    </script>\n",
              "  </div>\n",
              "\n",
              "\n",
              "<div id=\"df-e56a93fd-c021-4bd0-89f5-9cf3b5f322ff\">\n",
              "  <button class=\"colab-df-quickchart\" onclick=\"quickchart('df-e56a93fd-c021-4bd0-89f5-9cf3b5f322ff')\"\n",
              "            title=\"Suggest charts\"\n",
              "            style=\"display:none;\">\n",
              "\n",
              "<svg xmlns=\"http://www.w3.org/2000/svg\" height=\"24px\"viewBox=\"0 0 24 24\"\n",
              "     width=\"24px\">\n",
              "    <g>\n",
              "        <path d=\"M19 3H5c-1.1 0-2 .9-2 2v14c0 1.1.9 2 2 2h14c1.1 0 2-.9 2-2V5c0-1.1-.9-2-2-2zM9 17H7v-7h2v7zm4 0h-2V7h2v10zm4 0h-2v-4h2v4z\"/>\n",
              "    </g>\n",
              "</svg>\n",
              "  </button>\n",
              "\n",
              "<style>\n",
              "  .colab-df-quickchart {\n",
              "      --bg-color: #E8F0FE;\n",
              "      --fill-color: #1967D2;\n",
              "      --hover-bg-color: #E2EBFA;\n",
              "      --hover-fill-color: #174EA6;\n",
              "      --disabled-fill-color: #AAA;\n",
              "      --disabled-bg-color: #DDD;\n",
              "  }\n",
              "\n",
              "  [theme=dark] .colab-df-quickchart {\n",
              "      --bg-color: #3B4455;\n",
              "      --fill-color: #D2E3FC;\n",
              "      --hover-bg-color: #434B5C;\n",
              "      --hover-fill-color: #FFFFFF;\n",
              "      --disabled-bg-color: #3B4455;\n",
              "      --disabled-fill-color: #666;\n",
              "  }\n",
              "\n",
              "  .colab-df-quickchart {\n",
              "    background-color: var(--bg-color);\n",
              "    border: none;\n",
              "    border-radius: 50%;\n",
              "    cursor: pointer;\n",
              "    display: none;\n",
              "    fill: var(--fill-color);\n",
              "    height: 32px;\n",
              "    padding: 0;\n",
              "    width: 32px;\n",
              "  }\n",
              "\n",
              "  .colab-df-quickchart:hover {\n",
              "    background-color: var(--hover-bg-color);\n",
              "    box-shadow: 0 1px 2px rgba(60, 64, 67, 0.3), 0 1px 3px 1px rgba(60, 64, 67, 0.15);\n",
              "    fill: var(--button-hover-fill-color);\n",
              "  }\n",
              "\n",
              "  .colab-df-quickchart-complete:disabled,\n",
              "  .colab-df-quickchart-complete:disabled:hover {\n",
              "    background-color: var(--disabled-bg-color);\n",
              "    fill: var(--disabled-fill-color);\n",
              "    box-shadow: none;\n",
              "  }\n",
              "\n",
              "  .colab-df-spinner {\n",
              "    border: 2px solid var(--fill-color);\n",
              "    border-color: transparent;\n",
              "    border-bottom-color: var(--fill-color);\n",
              "    animation:\n",
              "      spin 1s steps(1) infinite;\n",
              "  }\n",
              "\n",
              "  @keyframes spin {\n",
              "    0% {\n",
              "      border-color: transparent;\n",
              "      border-bottom-color: var(--fill-color);\n",
              "      border-left-color: var(--fill-color);\n",
              "    }\n",
              "    20% {\n",
              "      border-color: transparent;\n",
              "      border-left-color: var(--fill-color);\n",
              "      border-top-color: var(--fill-color);\n",
              "    }\n",
              "    30% {\n",
              "      border-color: transparent;\n",
              "      border-left-color: var(--fill-color);\n",
              "      border-top-color: var(--fill-color);\n",
              "      border-right-color: var(--fill-color);\n",
              "    }\n",
              "    40% {\n",
              "      border-color: transparent;\n",
              "      border-right-color: var(--fill-color);\n",
              "      border-top-color: var(--fill-color);\n",
              "    }\n",
              "    60% {\n",
              "      border-color: transparent;\n",
              "      border-right-color: var(--fill-color);\n",
              "    }\n",
              "    80% {\n",
              "      border-color: transparent;\n",
              "      border-right-color: var(--fill-color);\n",
              "      border-bottom-color: var(--fill-color);\n",
              "    }\n",
              "    90% {\n",
              "      border-color: transparent;\n",
              "      border-bottom-color: var(--fill-color);\n",
              "    }\n",
              "  }\n",
              "</style>\n",
              "\n",
              "  <script>\n",
              "    async function quickchart(key) {\n",
              "      const quickchartButtonEl =\n",
              "        document.querySelector('#' + key + ' button');\n",
              "      quickchartButtonEl.disabled = true;  // To prevent multiple clicks.\n",
              "      quickchartButtonEl.classList.add('colab-df-spinner');\n",
              "      try {\n",
              "        const charts = await google.colab.kernel.invokeFunction(\n",
              "            'suggestCharts', [key], {});\n",
              "      } catch (error) {\n",
              "        console.error('Error during call to suggestCharts:', error);\n",
              "      }\n",
              "      quickchartButtonEl.classList.remove('colab-df-spinner');\n",
              "      quickchartButtonEl.classList.add('colab-df-quickchart-complete');\n",
              "    }\n",
              "    (() => {\n",
              "      let quickchartButtonEl =\n",
              "        document.querySelector('#df-e56a93fd-c021-4bd0-89f5-9cf3b5f322ff button');\n",
              "      quickchartButtonEl.style.display =\n",
              "        google.colab.kernel.accessAllowed ? 'block' : 'none';\n",
              "    })();\n",
              "  </script>\n",
              "</div>\n",
              "\n",
              "  <div id=\"id_507de3e7-be7f-40b5-bd87-e7354a63aed6\">\n",
              "    <style>\n",
              "      .colab-df-generate {\n",
              "        background-color: #E8F0FE;\n",
              "        border: none;\n",
              "        border-radius: 50%;\n",
              "        cursor: pointer;\n",
              "        display: none;\n",
              "        fill: #1967D2;\n",
              "        height: 32px;\n",
              "        padding: 0 0 0 0;\n",
              "        width: 32px;\n",
              "      }\n",
              "\n",
              "      .colab-df-generate:hover {\n",
              "        background-color: #E2EBFA;\n",
              "        box-shadow: 0px 1px 2px rgba(60, 64, 67, 0.3), 0px 1px 3px 1px rgba(60, 64, 67, 0.15);\n",
              "        fill: #174EA6;\n",
              "      }\n",
              "\n",
              "      [theme=dark] .colab-df-generate {\n",
              "        background-color: #3B4455;\n",
              "        fill: #D2E3FC;\n",
              "      }\n",
              "\n",
              "      [theme=dark] .colab-df-generate:hover {\n",
              "        background-color: #434B5C;\n",
              "        box-shadow: 0px 1px 3px 1px rgba(0, 0, 0, 0.15);\n",
              "        filter: drop-shadow(0px 1px 2px rgba(0, 0, 0, 0.3));\n",
              "        fill: #FFFFFF;\n",
              "      }\n",
              "    </style>\n",
              "    <button class=\"colab-df-generate\" onclick=\"generateWithVariable('beer_df')\"\n",
              "            title=\"Generate code using this dataframe.\"\n",
              "            style=\"display:none;\">\n",
              "\n",
              "  <svg xmlns=\"http://www.w3.org/2000/svg\" height=\"24px\"viewBox=\"0 0 24 24\"\n",
              "       width=\"24px\">\n",
              "    <path d=\"M7,19H8.4L18.45,9,17,7.55,7,17.6ZM5,21V16.75L18.45,3.32a2,2,0,0,1,2.83,0l1.4,1.43a1.91,1.91,0,0,1,.58,1.4,1.91,1.91,0,0,1-.58,1.4L9.25,21ZM18.45,9,17,7.55Zm-12,3A5.31,5.31,0,0,0,4.9,8.1,5.31,5.31,0,0,0,1,6.5,5.31,5.31,0,0,0,4.9,4.9,5.31,5.31,0,0,0,6.5,1,5.31,5.31,0,0,0,8.1,4.9,5.31,5.31,0,0,0,12,6.5,5.46,5.46,0,0,0,6.5,12Z\"/>\n",
              "  </svg>\n",
              "    </button>\n",
              "    <script>\n",
              "      (() => {\n",
              "      const buttonEl =\n",
              "        document.querySelector('#id_507de3e7-be7f-40b5-bd87-e7354a63aed6 button.colab-df-generate');\n",
              "      buttonEl.style.display =\n",
              "        google.colab.kernel.accessAllowed ? 'block' : 'none';\n",
              "\n",
              "      buttonEl.onclick = () => {\n",
              "        google.colab.notebook.generateWithVariable('beer_df');\n",
              "      }\n",
              "      })();\n",
              "    </script>\n",
              "  </div>\n",
              "\n",
              "    </div>\n",
              "  </div>\n"
            ],
            "application/vnd.google.colaboratory.intrinsic+json": {
              "type": "dataframe",
              "variable_name": "beer_df",
              "summary": "{\n  \"name\": \"beer_df\",\n  \"rows\": 19,\n  \"fields\": [\n    {\n      \"column\": \"name\",\n      \"properties\": {\n        \"dtype\": \"string\",\n        \"num_unique_values\": 19,\n        \"samples\": [\n          \"Budweiser\",\n          \"Augsberger\",\n          \"Michelob_Light\"\n        ],\n        \"semantic_type\": \"\",\n        \"description\": \"\"\n      }\n    },\n    {\n      \"column\": \"calories\",\n      \"properties\": {\n        \"dtype\": \"number\",\n        \"std\": 30,\n        \"min\": 68,\n        \"max\": 175,\n        \"num_unique_values\": 17,\n        \"samples\": [\n          144,\n          151,\n          175\n        ],\n        \"semantic_type\": \"\",\n        \"description\": \"\"\n      }\n    },\n    {\n      \"column\": \"sodium\",\n      \"properties\": {\n        \"dtype\": \"number\",\n        \"std\": 6,\n        \"min\": 6,\n        \"max\": 27,\n        \"num_unique_values\": 11,\n        \"samples\": [\n          24,\n          15,\n          18\n        ],\n        \"semantic_type\": \"\",\n        \"description\": \"\"\n      }\n    },\n    {\n      \"column\": \"alcohol\",\n      \"properties\": {\n        \"dtype\": \"number\",\n        \"std\": 0.7726312602577542,\n        \"min\": 2.3,\n        \"max\": 5.5,\n        \"num_unique_values\": 13,\n        \"samples\": [\n          4.4,\n          4.2,\n          4.7\n        ],\n        \"semantic_type\": \"\",\n        \"description\": \"\"\n      }\n    },\n    {\n      \"column\": \"cost\",\n      \"properties\": {\n        \"dtype\": \"number\",\n        \"std\": 0.1487865145118495,\n        \"min\": 0.28,\n        \"max\": 0.79,\n        \"num_unique_values\": 13,\n        \"samples\": [\n          0.38,\n          0.76,\n          0.43\n        ],\n        \"semantic_type\": \"\",\n        \"description\": \"\"\n      }\n    }\n  ]\n}"
            }
          },
          "metadata": {},
          "execution_count": 11
        }
      ],
      "source": [
        "beer_df"
      ]
    },
    {
      "cell_type": "code",
      "execution_count": null,
      "metadata": {
        "id": "ZhLumNly1xau"
      },
      "outputs": [],
      "source": [
        "sn.kdeplot(beer_df.calories);"
      ]
    },
    {
      "cell_type": "code",
      "execution_count": null,
      "metadata": {
        "id": "Yzod30kp1xav"
      },
      "outputs": [],
      "source": [
        "sn.kdeplot(beer_df.sodium);"
      ]
    },
    {
      "cell_type": "code",
      "execution_count": null,
      "metadata": {
        "id": "D3vZ6RI91xav"
      },
      "outputs": [],
      "source": [
        "sn.scatterplot(data = beer_df,\n",
        "               x = 'alcohol',\n",
        "               y = 'calories');"
      ]
    },
    {
      "cell_type": "markdown",
      "metadata": {
        "id": "oO-fi7x-1xav"
      },
      "source": [
        "## Scaling"
      ]
    },
    {
      "cell_type": "code",
      "execution_count": null,
      "metadata": {
        "id": "ZSc5qxm41xaw"
      },
      "outputs": [],
      "source": [
        "from sklearn.preprocessing import StandardScaler\n",
        "\n",
        "scaler = StandardScaler()\n",
        "scaled_beer_df = scaler.fit_transform( beer_df[['calories',\n",
        "                                                'sodium',\n",
        "                                                'alcohol',\n",
        "                                                'cost']] )"
      ]
    },
    {
      "cell_type": "code",
      "execution_count": null,
      "metadata": {
        "id": "9NJbb9nE1xaw"
      },
      "outputs": [],
      "source": [
        "scaled_beer_df = pd.DataFrame(scaled_beer_df,\n",
        "                              columns = ['calories',\n",
        "                                         'sodium',\n",
        "                                         'alcohol',\n",
        "                                         'cost'])"
      ]
    },
    {
      "cell_type": "code",
      "execution_count": null,
      "metadata": {
        "id": "pW5E2vkT1xaw"
      },
      "outputs": [],
      "source": [
        "sn.kdeplot(scaled_beer_df.sodium);\n",
        "sn.kdeplot(scaled_beer_df.calories);"
      ]
    },
    {
      "cell_type": "markdown",
      "metadata": {
        "id": "JxNcAkIc1xaw"
      },
      "source": [
        "## How many clusters exist?\n",
        "\n",
        "#### Using Dendrogram"
      ]
    },
    {
      "cell_type": "code",
      "execution_count": null,
      "metadata": {
        "id": "bT4Z3cXy1xaw"
      },
      "outputs": [],
      "source": [
        "cmap = sn.cubehelix_palette(as_cmap=True, rot=-.3, light=1)\n",
        "sn.clustermap(scaled_beer_df,\n",
        "              cmap=cmap,\n",
        "              linewidths=.2,\n",
        "              figsize = (6,6) );"
      ]
    },
    {
      "cell_type": "code",
      "execution_count": null,
      "metadata": {
        "id": "fLbE-3wY1xaw"
      },
      "outputs": [],
      "source": [
        "beer_df.iloc[[9,15]]"
      ]
    },
    {
      "cell_type": "code",
      "execution_count": null,
      "metadata": {
        "id": "SrlOSRfd1xax"
      },
      "outputs": [],
      "source": [
        "beer_df.iloc[[16,14]]"
      ]
    },
    {
      "cell_type": "code",
      "execution_count": null,
      "metadata": {
        "id": "ZM1fRxaL1xax"
      },
      "outputs": [],
      "source": [
        "from sklearn.cluster import KMeans"
      ]
    },
    {
      "cell_type": "code",
      "execution_count": null,
      "metadata": {
        "id": "Yaa1k1lQ1xax"
      },
      "outputs": [],
      "source": [
        "cluster_range = range( 1, 10 )\n",
        "cluster_errors = []\n",
        "\n",
        "for num_clusters in cluster_range:\n",
        "  clusters = KMeans( num_clusters )\n",
        "  clusters.fit( scaled_beer_df )\n",
        "  cluster_errors.append( clusters.inertia_ )\n",
        "\n",
        "plt.figure(figsize=(8,4))\n",
        "plt.plot( cluster_range, cluster_errors, marker = \"o\" );"
      ]
    },
    {
      "cell_type": "markdown",
      "metadata": {
        "id": "NSzsaBVw1xax"
      },
      "source": [
        "## Evaluating the quality of cluster using Silhouette score"
      ]
    },
    {
      "cell_type": "code",
      "execution_count": null,
      "metadata": {
        "id": "T_uBA0E71xax"
      },
      "outputs": [],
      "source": [
        "from yellowbrick.cluster import SilhouetteVisualizer\n",
        "\n",
        "fig, ax = plt.subplots(2, 2, figsize=(15,8))\n",
        "num_clusters = [2, 3, 4, 5]\n",
        "for i, k in enumerate(num_clusters):\n",
        "    km = KMeans(n_clusters=k,\n",
        "                random_state=42)\n",
        "    q, mod = divmod(i, 2)\n",
        "    visualizer = SilhouetteVisualizer(km,\n",
        "                                      colors='yellowbrick',\n",
        "                                      ax=ax[q-1][mod])\n",
        "    visualizer.fit(scaled_beer_df)"
      ]
    },
    {
      "cell_type": "markdown",
      "metadata": {
        "id": "g4FkTFw81xax"
      },
      "source": [
        "#### Rescaling the dataset"
      ]
    },
    {
      "cell_type": "code",
      "execution_count": null,
      "metadata": {
        "id": "z1AzkgHV1xax"
      },
      "outputs": [],
      "source": [
        "from sklearn.preprocessing import MinMaxScaler"
      ]
    },
    {
      "cell_type": "code",
      "execution_count": null,
      "metadata": {
        "id": "J6jQTAp91xax"
      },
      "outputs": [],
      "source": [
        "scaler = MinMaxScaler()\n",
        "scaled_beer_df = scaler.fit_transform( beer_df[['calories',\n",
        "                                                'sodium',\n",
        "                                                'alcohol',\n",
        "                                                'cost']] )"
      ]
    },
    {
      "cell_type": "markdown",
      "metadata": {
        "id": "i4Yi1We81xax"
      },
      "source": [
        "#### Creating 3 Clusters"
      ]
    },
    {
      "cell_type": "markdown",
      "metadata": {
        "id": "TffIlPq81xax"
      },
      "source": [
        "We will set k to 3 for running *KMeans* algorithm and create a new column *clusterid* in *beer_df* to capture the cluster number it is assigned to."
      ]
    },
    {
      "cell_type": "code",
      "execution_count": null,
      "metadata": {
        "id": "ln0qJl1H1xay"
      },
      "outputs": [],
      "source": [
        "k = 4\n",
        "\n",
        "clusters = KMeans( k, random_state = 42 )\n",
        "clusters.fit( scaled_beer_df )\n",
        "beer_df[\"clusterid\"] = clusters.labels_"
      ]
    },
    {
      "cell_type": "code",
      "execution_count": null,
      "metadata": {
        "id": "O3CJfyST1xay"
      },
      "outputs": [],
      "source": [
        "clusters.labels_"
      ]
    },
    {
      "cell_type": "markdown",
      "metadata": {
        "id": "JaEZ-UY71xay"
      },
      "source": [
        "## Understanding the clusters"
      ]
    },
    {
      "cell_type": "code",
      "execution_count": null,
      "metadata": {
        "id": "Ek7VVPlm1xay"
      },
      "outputs": [],
      "source": [
        "sn.violinplot(data = beer_df,\n",
        "              y = 'calories',\n",
        "              x = 'clusterid');"
      ]
    },
    {
      "cell_type": "code",
      "execution_count": null,
      "metadata": {
        "id": "tH9knh761xay"
      },
      "outputs": [],
      "source": [
        "sn.violinplot(data = beer_df,\n",
        "              y = 'cost',\n",
        "              x = 'clusterid');"
      ]
    },
    {
      "cell_type": "code",
      "execution_count": null,
      "metadata": {
        "id": "m2FTjlrm1xay"
      },
      "outputs": [],
      "source": [
        "sn.scatterplot(data = beer_df,\n",
        "               x = 'cost',\n",
        "               y = 'calories',\n",
        "               hue = 'clusterid');"
      ]
    },
    {
      "cell_type": "markdown",
      "metadata": {
        "id": "iZlkJbMa1xay"
      },
      "source": [
        "#### Cluster 0"
      ]
    },
    {
      "cell_type": "code",
      "execution_count": null,
      "metadata": {
        "id": "iFejAJP51xay"
      },
      "outputs": [],
      "source": [
        "beer_df[beer_df.clusterid == 0]"
      ]
    },
    {
      "cell_type": "markdown",
      "metadata": {
        "id": "yvztX-Nb1xay"
      },
      "source": [
        "#### Cluster 1"
      ]
    },
    {
      "cell_type": "code",
      "execution_count": null,
      "metadata": {
        "id": "hBIvCNcr1xay"
      },
      "outputs": [],
      "source": [
        "beer_df[beer_df.clusterid == 1]"
      ]
    },
    {
      "cell_type": "markdown",
      "metadata": {
        "id": "vQJCFyk41xaz"
      },
      "source": [
        "#### Cluster 2"
      ]
    },
    {
      "cell_type": "code",
      "execution_count": null,
      "metadata": {
        "id": "aC1G9n_F1xaz"
      },
      "outputs": [],
      "source": [
        "beer_df[beer_df.clusterid == 2]"
      ]
    },
    {
      "cell_type": "markdown",
      "metadata": {
        "id": "txnyeeDP1xa5"
      },
      "source": [
        "#### Cluster 3"
      ]
    },
    {
      "cell_type": "code",
      "execution_count": null,
      "metadata": {
        "id": "h89Obwm31xa6"
      },
      "outputs": [],
      "source": [
        "beer_df[beer_df.clusterid == 3]"
      ]
    },
    {
      "cell_type": "markdown",
      "metadata": {
        "id": "jDkz2IAJ1xa6"
      },
      "source": [
        "# Evaluating Cluster Performane\n",
        "\n",
        "## Calinski-Harabasz Index"
      ]
    },
    {
      "cell_type": "code",
      "execution_count": null,
      "metadata": {
        "id": "QIg5btjz1xa6"
      },
      "outputs": [],
      "source": [
        "from sklearn.metrics import calinski_harabasz_score"
      ]
    },
    {
      "cell_type": "code",
      "execution_count": null,
      "metadata": {
        "id": "e3QXgs7M1xa6"
      },
      "outputs": [],
      "source": [
        "cluster_range = range( 3, 6 )\n",
        "ch_scores = []\n",
        "\n",
        "for num_clusters in cluster_range:\n",
        "  clusters = KMeans( num_clusters )\n",
        "  clusters.fit( scaled_beer_df )\n",
        "  print(f\"n_cluster: {num_clusters} - CH Score: {calinski_harabasz_score(scaled_beer_df, clusters.labels_)}\" )"
      ]
    },
    {
      "cell_type": "markdown",
      "metadata": {
        "id": "FOAbbRPv1xa6"
      },
      "source": [
        "## Davies-Bouldin Index"
      ]
    },
    {
      "cell_type": "code",
      "execution_count": null,
      "metadata": {
        "id": "yqmvRCib1xa6"
      },
      "outputs": [],
      "source": [
        "from sklearn.metrics import davies_bouldin_score"
      ]
    },
    {
      "cell_type": "code",
      "execution_count": null,
      "metadata": {
        "id": "kjAIUuVi1xa6"
      },
      "outputs": [],
      "source": [
        "cluster_range = range( 3, 6 )\n",
        "ch_scores = []\n",
        "\n",
        "for num_clusters in cluster_range:\n",
        "  clusters = KMeans( num_clusters )\n",
        "  clusters.fit( scaled_beer_df )\n",
        "  print(f\"n_cluster: {num_clusters} - CH Score: {davies_bouldin_score(scaled_beer_df, clusters.labels_)}\" )"
      ]
    },
    {
      "cell_type": "markdown",
      "metadata": {
        "id": "kmYm9hwz1xa6"
      },
      "source": [
        "# Hierarchical Clustering"
      ]
    },
    {
      "cell_type": "markdown",
      "metadata": {
        "id": "Bq-cmi2V1xa6"
      },
      "source": [
        "Cluster method:\n",
        "\n",
        "https://docs.scipy.org/doc/scipy/reference/generated/scipy.cluster.hierarchy.linkage.html"
      ]
    },
    {
      "cell_type": "code",
      "execution_count": null,
      "metadata": {
        "id": "kjbNjhQO1xa6"
      },
      "outputs": [],
      "source": [
        "cmap = sn.cubehelix_palette(as_cmap=True, rot=-.3, light=1)\n",
        "sn.clustermap(scaled_beer_df,\n",
        "              cmap=cmap,\n",
        "              linewidths=.2,\n",
        "              figsize = (6,6) );"
      ]
    },
    {
      "cell_type": "code",
      "execution_count": null,
      "metadata": {
        "id": "Znc58vo51xa6"
      },
      "outputs": [],
      "source": [
        "from sklearn.cluster import AgglomerativeClustering"
      ]
    },
    {
      "cell_type": "markdown",
      "metadata": {
        "id": "3nCvpdUT1xa7"
      },
      "source": [
        "Try different metric and linkage\n",
        "\n",
        "- metric: “euclidean”, “manhattan”, “cosine”, \"minkowski\"\n",
        "- linkage: single, complete, ward, average"
      ]
    },
    {
      "cell_type": "code",
      "execution_count": null,
      "metadata": {
        "id": "oCLz5d1d1xa7"
      },
      "outputs": [],
      "source": [
        "h_cluster = AgglomerativeClustering(n_clusters = 4,\n",
        "                                    metric = 'euclidean',\n",
        "                                    linkage = 'ward',\n",
        "                                    compute_distances = True)"
      ]
    },
    {
      "cell_type": "code",
      "execution_count": null,
      "metadata": {
        "id": "W_VUGJMH1xa7"
      },
      "outputs": [],
      "source": [
        "#h_cluster = AgglomerativeClustering(n_clusters = 4,\n",
        "#                                    metric = 'manhattan',\n",
        "#                                    linkage = 'complete')"
      ]
    },
    {
      "cell_type": "code",
      "execution_count": null,
      "metadata": {
        "id": "yHEH6v0T1xa7"
      },
      "outputs": [],
      "source": [
        "h_cluster.fit(scaled_beer_df)"
      ]
    },
    {
      "cell_type": "code",
      "execution_count": null,
      "metadata": {
        "id": "2AD43fDV1xa7"
      },
      "outputs": [],
      "source": [
        "h_cluster.labels_"
      ]
    },
    {
      "cell_type": "code",
      "execution_count": null,
      "metadata": {
        "id": "s6pRbxi_1xa7"
      },
      "outputs": [],
      "source": [
        "beer_df['hcluster_clusterid'] = h_cluster.labels_"
      ]
    },
    {
      "cell_type": "code",
      "execution_count": null,
      "metadata": {
        "id": "_6ygN2jA1xa7"
      },
      "outputs": [],
      "source": [
        "beer_df.sort_values('hcluster_clusterid')"
      ]
    },
    {
      "cell_type": "code",
      "execution_count": null,
      "metadata": {
        "id": "HMpRiNrc1xa7"
      },
      "outputs": [],
      "source": [
        "h_cluster.n_leaves_"
      ]
    },
    {
      "cell_type": "code",
      "execution_count": null,
      "metadata": {
        "id": "xuC9TESX1xa8"
      },
      "outputs": [],
      "source": [
        "h_cluster.children_"
      ]
    },
    {
      "cell_type": "code",
      "execution_count": null,
      "metadata": {
        "id": "E3dIkr2E1xa8"
      },
      "outputs": [],
      "source": [
        "h_cluster.distances_"
      ]
    },
    {
      "cell_type": "markdown",
      "metadata": {
        "id": "7S99tVWA1xa8"
      },
      "source": [
        "# HDBScan Clustering"
      ]
    },
    {
      "cell_type": "code",
      "execution_count": null,
      "metadata": {
        "id": "Wd7g-bnS1xa8"
      },
      "outputs": [],
      "source": [
        "from sklearn.cluster import HDBSCAN"
      ]
    },
    {
      "cell_type": "code",
      "execution_count": null,
      "metadata": {
        "id": "gU2Qbaa21xa8"
      },
      "outputs": [],
      "source": [
        "hdbscan = HDBSCAN(min_cluster_size=2)"
      ]
    },
    {
      "cell_type": "code",
      "execution_count": null,
      "metadata": {
        "id": "EIxHrQQO1xa8"
      },
      "outputs": [],
      "source": [
        "hdbscan.fit(scaled_beer_df)"
      ]
    },
    {
      "cell_type": "code",
      "execution_count": null,
      "metadata": {
        "id": "zN2jrXOl1xa8"
      },
      "outputs": [],
      "source": [
        "hdbscan.labels_"
      ]
    },
    {
      "cell_type": "code",
      "execution_count": null,
      "metadata": {
        "id": "JsUpJvQ31xa8"
      },
      "outputs": [],
      "source": [
        "beer_df['hdbscan_clusterid'] = hdbscan.labels_"
      ]
    },
    {
      "cell_type": "code",
      "execution_count": null,
      "metadata": {
        "id": "L5-PnpIu1xa8"
      },
      "outputs": [],
      "source": [
        "beer_df[beer_df.hdbscan_clusterid == 0]"
      ]
    },
    {
      "cell_type": "code",
      "execution_count": null,
      "metadata": {
        "id": "Rs7JaeoP1xa8"
      },
      "outputs": [],
      "source": [
        "beer_df[beer_df.hdbscan_clusterid == 1]"
      ]
    },
    {
      "cell_type": "code",
      "execution_count": null,
      "metadata": {
        "id": "3V8dhh1X1xa8"
      },
      "outputs": [],
      "source": [
        "beer_df[beer_df.hdbscan_clusterid == 2]"
      ]
    },
    {
      "cell_type": "code",
      "execution_count": null,
      "metadata": {
        "id": "HrKrxkT81xa8"
      },
      "outputs": [],
      "source": [
        "beer_df[beer_df.hdbscan_clusterid == 3]"
      ]
    },
    {
      "cell_type": "code",
      "execution_count": null,
      "metadata": {
        "scrolled": true,
        "id": "OR11Q5_u1xa9"
      },
      "outputs": [],
      "source": [
        "beer_df[beer_df.hdbscan_clusterid == -1]"
      ]
    }
  ],
  "metadata": {
    "anaconda-cloud": {},
    "kernelspec": {
      "display_name": "Python 3 (ipykernel)",
      "language": "python",
      "name": "python3"
    },
    "language_info": {
      "codemirror_mode": {
        "name": "ipython",
        "version": 3
      },
      "file_extension": ".py",
      "mimetype": "text/x-python",
      "name": "python",
      "nbconvert_exporter": "python",
      "pygments_lexer": "ipython3",
      "version": "3.10.9"
    },
    "colab": {
      "provenance": []
    }
  },
  "nbformat": 4,
  "nbformat_minor": 0
}
