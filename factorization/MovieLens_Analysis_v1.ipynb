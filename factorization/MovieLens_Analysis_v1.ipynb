{
 "cells": [
  {
   "cell_type": "markdown",
   "id": "380373eb",
   "metadata": {},
   "source": [
    "# Matrix Factorization"
   ]
  },
  {
   "cell_type": "code",
   "execution_count": null,
   "id": "f56428d4",
   "metadata": {},
   "outputs": [],
   "source": [
    "import pandas as pd\n",
    "import numpy as np"
   ]
  },
  {
   "cell_type": "markdown",
   "id": "6a948bcb",
   "metadata": {},
   "source": [
    "## Reading Ratings Data"
   ]
  },
  {
   "cell_type": "code",
   "execution_count": null,
   "id": "aa6fde18",
   "metadata": {},
   "outputs": [],
   "source": [
    "ratings_df = pd.read_csv('https://raw.githubusercontent.com/manaranjanp/ISB_MLUL/main/factorization/u.data', \n",
    "                         sep = '\\t')"
   ]
  },
  {
   "cell_type": "code",
   "execution_count": null,
   "id": "94dbe4a9",
   "metadata": {},
   "outputs": [],
   "source": [
    "ratings_df"
   ]
  },
  {
   "cell_type": "code",
   "execution_count": null,
   "id": "4c5174ae",
   "metadata": {},
   "outputs": [],
   "source": [
    "ratings_df.columns = ['userid', 'movieid', 'rating', 'timestamp']"
   ]
  },
  {
   "cell_type": "code",
   "execution_count": null,
   "id": "23e279da",
   "metadata": {},
   "outputs": [],
   "source": [
    "ratings_df"
   ]
  },
  {
   "cell_type": "code",
   "execution_count": null,
   "id": "3d3e479e",
   "metadata": {},
   "outputs": [],
   "source": [
    "len(ratings_df.userid.unique())"
   ]
  },
  {
   "cell_type": "code",
   "execution_count": null,
   "id": "09416215",
   "metadata": {},
   "outputs": [],
   "source": [
    "len(ratings_df.movieid.unique())"
   ]
  },
  {
   "cell_type": "markdown",
   "id": "0c553264",
   "metadata": {},
   "source": [
    "## Reading the movies metadata"
   ]
  },
  {
   "cell_type": "code",
   "execution_count": null,
   "id": "77e01624",
   "metadata": {},
   "outputs": [],
   "source": [
    "movies_df = pd.read_csv('https://raw.githubusercontent.com/manaranjanp/ISB_MLUL/main/factorization/u.item', \n",
    "                        encoding = 'iso-8859-1', \n",
    "                        sep = '|', \n",
    "                        header = None, \n",
    "                        usecols=[0, 1])"
   ]
  },
  {
   "cell_type": "code",
   "execution_count": null,
   "id": "8f67bc7b",
   "metadata": {},
   "outputs": [],
   "source": [
    "movies_df"
   ]
  },
  {
   "cell_type": "code",
   "execution_count": null,
   "id": "3cb22334",
   "metadata": {},
   "outputs": [],
   "source": [
    "movies_df.columns = ['movieid', 'moviename']"
   ]
  },
  {
   "cell_type": "markdown",
   "id": "2575fbe1",
   "metadata": {},
   "source": [
    "## Creating user-movies ratings matrix"
   ]
  },
  {
   "cell_type": "code",
   "execution_count": null,
   "id": "13a08c22",
   "metadata": {},
   "outputs": [],
   "source": [
    "user_movies_df = ratings_df.pivot( index='userid', \n",
    "                                 columns='movieid', \n",
    "                                 values = \"rating\" ).reset_index(drop=True)\n",
    "user_movies_df.index = ratings_df.userid.unique()"
   ]
  },
  {
   "cell_type": "code",
   "execution_count": null,
   "id": "aa111303",
   "metadata": {},
   "outputs": [],
   "source": [
    "user_movies_df"
   ]
  },
  {
   "cell_type": "markdown",
   "id": "9100a2e2",
   "metadata": {},
   "source": [
    "### Matrix Factorization Methods"
   ]
  },
  {
   "cell_type": "code",
   "execution_count": null,
   "id": "175482e7",
   "metadata": {},
   "outputs": [],
   "source": [
    "import numpy as np\n",
    "\n",
    "def als_matrix_factorization(R, num_features, lambda_reg, iterations):\n",
    "    \"\"\"\n",
    "    Perform matrix factorization using Alternating Least Squares (ALS) on the\n",
    "    incomplete matrix R with NaN values and return the error.\n",
    "    \n",
    "    R: the input matrix with NaNs\n",
    "    num_features: the number of latent features\n",
    "    lambda_reg: the regularization parameter\n",
    "    iterations: the number of iterations to perform\n",
    "    \"\"\"\n",
    "    \n",
    "    num_users, num_items = R.shape\n",
    "    W = np.random.rand(num_users, num_features)\n",
    "    H = np.random.rand(num_items, num_features).T\n",
    "\n",
    "    mask = ~np.isnan(R)\n",
    "    \n",
    "    errors = []\n",
    "\n",
    "    for _ in range(iterations):\n",
    "        # Update W\n",
    "        for i in range(num_users):\n",
    "            H_i = H[:, mask[i, :]]\n",
    "            R_i = R[i, mask[i, :]]\n",
    "            W[i, :] = np.linalg.solve(H_i @ H_i.T + lambda_reg * np.eye(num_features), H_i @ R_i)\n",
    "\n",
    "        # Update H\n",
    "        for j in range(num_items):\n",
    "            W_j = W[mask[:, j], :]\n",
    "            R_j = R[mask[:, j], j]\n",
    "            H[:, j] = np.linalg.solve(W_j.T @ W_j + lambda_reg * np.eye(num_features), W_j.T @ R_j)\n",
    "\n",
    "        # Calculate the reconstruction error\n",
    "        R_hat = W @ H\n",
    "        error = np.nansum((R - R_hat)**2 * mask)\n",
    "        errors.append(np.sqrt(error))\n",
    "\n",
    "    return W, H.T, np.round(np.sqrt(errors), 4)"
   ]
  },
  {
   "cell_type": "markdown",
   "id": "779e4d11",
   "metadata": {},
   "source": [
    "## Factorizing User-Movies Ratings Matrix"
   ]
  },
  {
   "cell_type": "code",
   "execution_count": null,
   "id": "b5cdc46d",
   "metadata": {},
   "outputs": [],
   "source": [
    "num_features = 20\n",
    "lambda_reg = 0.1\n",
    "iterations = 200\n",
    "\n",
    "W, H, errors = als_matrix_factorization(user_movies_df.to_numpy(), num_features, lambda_reg, iterations)\n",
    "\n",
    "print(\"W (User Feature Matrix):\")\n",
    "print(W)\n",
    "print(\"\\nH (Item Feature Matrix):\")\n",
    "print(H)"
   ]
  },
  {
   "cell_type": "code",
   "execution_count": null,
   "id": "38abbc9e",
   "metadata": {},
   "outputs": [],
   "source": [
    "errors"
   ]
  },
  {
   "cell_type": "code",
   "execution_count": null,
   "id": "bafd5b52",
   "metadata": {},
   "outputs": [],
   "source": [
    "W.shape"
   ]
  },
  {
   "cell_type": "code",
   "execution_count": null,
   "id": "cdadab70",
   "metadata": {},
   "outputs": [],
   "source": [
    "H.shape"
   ]
  },
  {
   "cell_type": "markdown",
   "id": "8b59d0de",
   "metadata": {},
   "source": [
    "## Finding Similarity"
   ]
  },
  {
   "cell_type": "code",
   "execution_count": null,
   "id": "bb2c09b1",
   "metadata": {},
   "outputs": [],
   "source": [
    "from sklearn.metrics import pairwise_distances\n",
    "from scipy.spatial.distance import cosine, correlation\n",
    "\n",
    "movies_sim = 1 - pairwise_distances( H, metric=\"cosine\" )\n",
    "movies_sim_df = pd.DataFrame( movies_sim )"
   ]
  },
  {
   "cell_type": "code",
   "execution_count": null,
   "id": "3f5699cb",
   "metadata": {},
   "outputs": [],
   "source": [
    "def get_similar_movies( movieid, topN = 5 ):\n",
    "    movieidx = movies_df[movies_df.movieid == movieid].index[0]\n",
    "    movies_df['similarity'] = movies_sim_df.iloc[movieidx]\n",
    "    top_n = movies_df.sort_values( [\"similarity\"], ascending = False )[0:topN]   \n",
    "    return top_n "
   ]
  },
  {
   "cell_type": "code",
   "execution_count": null,
   "id": "e8aab4d6",
   "metadata": {},
   "outputs": [],
   "source": [
    "movies_sim_df"
   ]
  },
  {
   "cell_type": "markdown",
   "id": "adb4a8d5",
   "metadata": {},
   "source": [
    "## Finding Similar Movies"
   ]
  },
  {
   "cell_type": "code",
   "execution_count": null,
   "id": "6dc46ea0",
   "metadata": {},
   "outputs": [],
   "source": [
    "movies_df[movies_df.movieid == 127]"
   ]
  },
  {
   "cell_type": "code",
   "execution_count": null,
   "id": "20c8cd9a",
   "metadata": {},
   "outputs": [],
   "source": [
    "get_similar_movies(127)"
   ]
  },
  {
   "cell_type": "code",
   "execution_count": null,
   "id": "65e53162",
   "metadata": {},
   "outputs": [],
   "source": [
    "get_similar_movies(222)"
   ]
  },
  {
   "cell_type": "code",
   "execution_count": null,
   "id": "6a39fe68",
   "metadata": {},
   "outputs": [],
   "source": [
    "get_similar_movies(88)"
   ]
  },
  {
   "cell_type": "code",
   "execution_count": null,
   "id": "ef077c6f",
   "metadata": {},
   "outputs": [],
   "source": [
    "movies_df[movies_df.moviename.str.contains(\"Gump\")]"
   ]
  },
  {
   "cell_type": "code",
   "execution_count": null,
   "id": "9da11dd5",
   "metadata": {},
   "outputs": [],
   "source": [
    "get_similar_movies(82)"
   ]
  }
 ],
 "metadata": {
  "kernelspec": {
   "display_name": "Python 3 (ipykernel)",
   "language": "python",
   "name": "python3"
  },
  "language_info": {
   "codemirror_mode": {
    "name": "ipython",
    "version": 3
   },
   "file_extension": ".py",
   "mimetype": "text/x-python",
   "name": "python",
   "nbconvert_exporter": "python",
   "pygments_lexer": "ipython3",
   "version": "3.10.9"
  }
 },
 "nbformat": 4,
 "nbformat_minor": 5
}
